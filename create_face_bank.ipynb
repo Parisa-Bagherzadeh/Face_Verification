{
 "cells": [
  {
   "cell_type": "code",
   "execution_count": null,
   "metadata": {},
   "outputs": [],
   "source": [
    "import os\n",
    "\n",
    "import cv2\n",
    "import numpy as np\n",
    "import matplotlib.pyplot as plt\n",
    "\n",
    "from insightface import FaceAnalysis"
   ]
  },
  {
   "cell_type": "markdown",
   "metadata": {},
   "source": [
    "### Create Face bank"
   ]
  },
  {
   "cell_type": "code",
   "execution_count": null,
   "metadata": {},
   "outputs": [],
   "source": [
    "app = FaceAnalysis(name = \"buffalo_s\", providers = [\"CPUExecutionProvider\"])\n",
    "app.prepare(ctx_id = 0, dst_size = (640, 640))\n"
   ]
  },
  {
   "cell_type": "code",
   "execution_count": null,
   "metadata": {},
   "outputs": [],
   "source": [
    "face_bak_path = './face_bank/'\n",
    "\n",
    "face_bank = []\n",
    "\n",
    "for person_name in os.listdir(face_bak_path):\n",
    "    file_path = os.path.join(face_bak_path, person_name)\n",
    "    if os.path.isdir(file_path):\n",
    "        for image_name in os.listdir(file_path):\n",
    "            #if image_name != \".DS_Store:\n",
    "            image_path = os.path.join(file_path, image_name)\n",
    "            print(image_path)\n",
    "            image = cv2.imread(image_path)\n",
    "            image = cv2.cvtColor(image, cv2.COLOR_BGR2RGB)\n",
    "            result = app.get(image)\n",
    "            if len(result) > 1 :\n",
    "                print(\"Warning more than one person in image!\")\n",
    "                continue \n",
    "\n",
    "            else:\n",
    "                embedding = result[0][\"embedding\"] \n",
    "                my_dict = {\"name\" : person_name, \"embedding\" : embedding } \n",
    "                face_bank.append(my_dict)\n",
    "\n",
    "#print(face_bank)\n",
    "np.save(\"face_bank.npy\", face_bank)\n"
   ]
  },
  {
   "cell_type": "code",
   "execution_count": null,
   "metadata": {},
   "outputs": [],
   "source": []
  }
 ],
 "metadata": {
  "language_info": {
   "name": "python"
  }
 },
 "nbformat": 4,
 "nbformat_minor": 2
}
