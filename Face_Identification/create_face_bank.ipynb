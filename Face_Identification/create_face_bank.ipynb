{
 "cells": [
  {
   "cell_type": "code",
   "execution_count": 3,
   "metadata": {},
   "outputs": [],
   "source": [
    "import os\n",
    "import cv2\n",
    "import numpy as np\n",
    "import matplotlib.pyplot as plt\n",
    "from insightface.app import FaceAnalysis"
   ]
  },
  {
   "cell_type": "markdown",
   "metadata": {},
   "source": [
    "### Create Face bank"
   ]
  },
  {
   "cell_type": "code",
   "execution_count": null,
   "metadata": {},
   "outputs": [],
   "source": [
    "app = FaceAnalysis(name = \"buffalo_s\", providers = [\"CPUExecutionProvider\"])\n",
    "app.prepare(ctx_id = 0, det_size = (640, 640))\n"
   ]
  },
  {
   "cell_type": "code",
   "execution_count": null,
   "metadata": {},
   "outputs": [],
   "source": [
    "# Face bank is a .npy file includes features of faces from different persons\n",
    "# Each feature has 512 dimension\n",
    "\n",
    "\n",
    "face_bank_path = './face_bank'\n",
    "\n",
    "face_bank = []\n",
    "\n",
    "for person_name in os.listdir(face_bank_path):\n",
    "    file_path = os.path.join(face_bank_path, person_name)\n",
    "    if os.path.isdir(file_path):\n",
    "        for image_name in os.listdir(file_path):\n",
    "            image_path = os.path.join(file_path, image_name)\n",
    "            print(image_path)\n",
    "\n",
    "            image = cv2.imread(image_path)\n",
    "            image = cv2.cvtColor(image, cv2.COLOR_BGR2RGB)\n",
    "            result = app.get(image)\n",
    "\n",
    "            if len(result) > 1:\n",
    "                print(\"Warning : more than one face detected\")\n",
    "                continue\n",
    "\n",
    "            embedding = result[0][\"embedding\"]\n",
    "            mydict = {\"name\": person_name, \"embedding\": embedding}\n",
    "            face_bank.append(mydict)\n",
    "\n",
    "np.save(\"face_bank.npy\", face_bank)\n",
    "            "
   ]
  }
 ],
 "metadata": {
  "kernelspec": {
   "display_name": "Python 3",
   "language": "python",
   "name": "python3"
  },
  "language_info": {
   "codemirror_mode": {
    "name": "ipython",
    "version": 3
   },
   "file_extension": ".py",
   "mimetype": "text/x-python",
   "name": "python",
   "nbconvert_exporter": "python",
   "pygments_lexer": "ipython3",
   "version": "3.10.12"
  }
 },
 "nbformat": 4,
 "nbformat_minor": 2
}
