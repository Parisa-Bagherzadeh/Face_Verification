{
 "cells": [
  {
   "cell_type": "code",
   "execution_count": null,
   "metadata": {},
   "outputs": [],
   "source": [
    "import os\n",
    "\n",
    "import cv2\n",
    "import numpy as numpy\n",
    "import matplotlib.pyplot as plt\n",
    "\n",
    "from insightface import FaceAnalysis"
   ]
  },
  {
   "cell_type": "code",
   "execution_count": null,
   "metadata": {},
   "outputs": [],
   "source": [
    "app = FaceAnalysis(name = \"buffalo_s\", providers = [\"CPUExecutionProvider\"])\n",
    "app.prepare(ctx_id = 0, dst_size = (640, 640))\n"
   ]
  },
  {
   "cell_type": "code",
   "execution_count": null,
   "metadata": {},
   "outputs": [],
   "source": [
    "input_image = cv2.imread(\"input/parstech.jpg\")\n",
    "input_image = cv2.cvtColor(input_image, )"
   ]
  },
  {
   "cell_type": "code",
   "execution_count": null,
   "metadata": {},
   "outputs": [],
   "source": [
    "results = app.get(input_image)\n",
    "results"
   ]
  },
  {
   "cell_type": "code",
   "execution_count": null,
   "metadata": {},
   "outputs": [],
   "source": [
    "face_bank = np.load(\"face_bank.npy\")\n"
   ]
  },
  {
   "cell_type": "code",
   "execution_count": null,
   "metadata": {},
   "outputs": [],
   "source": [
    "threshold = 25\n",
    "result_image = input_image.copy()\n",
    "\n",
    "\n",
    "for result in result:\n",
    "    cv2.rectangle(input_image, (int(result.bbox[0])))\n",
    "\n",
    "    for person in face_bank:\n",
    "        person_embedding = person[\"embedding\"]\n",
    "        new_person_embedding = result[\"embedding\"]\n",
    "\n",
    "        distance = np.sqrt(np.sum((person_embedding - new_person_embedding)**2))\n",
    "\n",
    "        if distance < threshold:\n",
    "            cv2.putText(input_image, person[\"name\"],\n",
    "            int(result.bbox[0] - 50, int(result.bbox[1])),\n",
    "            cv2.FONT)\n",
    "    else:\n",
    "        cv2.putText(input_image, person[\"name\"],\n",
    "            int(result.bbox[0] - 50, int(result.bbox[1])),\n",
    "            cv2.FONT_HERSHEY_SIMPLE, 1, (0, 0, 255), 2)\n",
    "\n",
    "\n",
    "\n"
   ]
  }
 ],
 "metadata": {
  "language_info": {
   "name": "python"
  }
 },
 "nbformat": 4,
 "nbformat_minor": 2
}
